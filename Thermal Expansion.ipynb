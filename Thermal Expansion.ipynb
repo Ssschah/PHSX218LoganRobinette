{
 "cells": [
  {
   "cell_type": "code",
   "execution_count": 3,
   "metadata": {},
   "outputs": [
    {
     "name": "stdout",
     "output_type": "stream",
     "text": [
      "Alpha Copper = 1.869766391522201e-05\n",
      "Alpha Aluminum = 3.796721138224915e-05\n"
     ]
    }
   ],
   "source": [
    "#Copper#\n",
    "#Length \n",
    "cu_length_i = 0.70000 #m\n",
    "cu_length_f = 0.70083 #m\n",
    "cu_dial_i = 0.00 #mm\n",
    "cu_dial_f = 0.830 #mm\n",
    "\n",
    "#Resistance \n",
    "cu_r_i = 124.2 #kohm\n",
    "# error = 124.0 - 124.4 kohm\n",
    "cu_r_f = 8.24 #kohm\n",
    "# error = 8.24 - 8.50 #kohm\n",
    "\n",
    "#Temperature\n",
    "cu_temp_i = 24.50 #C\n",
    "cu_temp_f = 87.84 #C\n",
    "#error range = 87.84 - 86.91 #C\n",
    "\n",
    "\n",
    "#Aluminum#\n",
    "#Length \n",
    "al_length_i = 0.70000 #m\n",
    "al_length_f = 0.70170 #m\n",
    "al_dial_i = 0.00 #mm\n",
    "al_dial_f = 1.17 #mm\n",
    "\n",
    "#Resistance \n",
    "al_r_i = 124.2 #kohm\n",
    "#124.1 - 124.3 #kohm\n",
    "#al_r_f = 8.16 #kohm\n",
    "#error range = 8.16 - 8.44 #kohm\n",
    "\n",
    "#Temperature\n",
    "al_temp_i = 24.32 #C\n",
    "al_temp_f = 88.13 #C\n",
    "#error_range_i = 24.32 - 24.50 #C\n",
    "#error_range_f = 88.13 - 87.48 #C\n",
    "\n",
    "def d_l(length_i, length_f):\n",
    "    d_l = length_f - length_i\n",
    "    return d_l\n",
    "\n",
    "def d_t(temp_f, temp_i):\n",
    "    d_t = temp_f - temp_i\n",
    "    return d_t\n",
    "\n",
    "Cu_dl = d_l(cu_length_i, cu_length_f)\n",
    "Cu_dt = d_t(cu_temp_f, cu_temp_i)\n",
    "Al_dl = d_l(al_length_i, al_length_f)\n",
    "Al_dt = d_t(al_temp_f, al_temp_i)\n",
    "\n",
    "def linear_expansion(d_L, L, d_T):\n",
    "    coefficient = d_L / (L*d_T)\n",
    "    return coefficient\n",
    "\n",
    "    \n",
    "Copper = linear_expansion(Cu_dl, cu_length_f, Cu_dt)\n",
    "print(\"Alpha Copper =\", Copper)\n",
    "\n",
    "Aluminum = linear_expansion(Al_dl, al_length_f, Al_dt)\n",
    "print(\"Alpha Aluminum =\", Aluminum)\n"
   ]
  },
  {
   "cell_type": "code",
   "execution_count": 23,
   "metadata": {},
   "outputs": [
    {
     "name": "stdout",
     "output_type": "stream",
     "text": [
      "Error in Delta_T, Aluminum = 0.9192388155425119 deg C\n",
      "Error in Delta_T, Copper = 1.3152186130069785 deg C\n"
     ]
    }
   ],
   "source": [
    "import numpy as np\n",
    "errT_iAL = 0.65 #C\n",
    "errT_fAL = 0.65 #C\n",
    "errT_iCu = 0.93 #C\n",
    "errT_fCu = 0.93 #C\n",
    "def rule3(errA,errB):\n",
    "    errQ=np.sqrt(errA**2 + errB**2)\n",
    "    return errQ\n",
    "errAl = rule3(errT_iAL, errT_fAL)\n",
    "errCu = rule3(errT_iCu, errT_fCu)\n",
    "print (\"Error in Delta_T, Aluminum =\", errAl, \"deg C\")\n",
    "print (\"Error in Delta_T, Copper =\", errCu, \"deg C\")"
   ]
  },
  {
   "cell_type": "code",
   "execution_count": 22,
   "metadata": {},
   "outputs": [
    {
     "name": "stdout",
     "output_type": "stream",
     "text": [
      "Alpha, Aluminum = 2.514560811536891e-05\n",
      "Error in Alpha, Aluminum = 9.445496593834454e-07\n"
     ]
    }
   ],
   "source": [
    "def rule4(errA,errB,errC,A,B,C,a,b,c,Q):\n",
    "    errQ= Q* np.sqrt(((a*errA)/A)**2 +((b*errB)/B)**2 +((c*errC)/C)**2)\n",
    "    return errQ\n",
    "\n",
    "D_L = 0.00117 #m\n",
    "errD_L = 4e-5 #m\n",
    "L = 0.7 #m\n",
    "errL = 0.005 #m\n",
    "D_T = 88.13-21.66 #C\n",
    "errD_T = 0.919 #C\n",
    "\n",
    "def alpha(A,B,C):\n",
    "    a = A*B**(-1)*C**(-1)\n",
    "    return a\n",
    "alpha = alpha(D_L,L,D_T)\n",
    "print(\"Alpha, Aluminum =\", alpha)\n",
    "\n",
    "err_alpha= rule4(errD_L,errL,errD_T,D_L,L,D_T,1,-1,-1,alpha)\n",
    "print (\"Error in Alpha, Aluminum =\", err_alpha)"
   ]
  },
  {
   "cell_type": "code",
   "execution_count": 21,
   "metadata": {},
   "outputs": [
    {
     "name": "stdout",
     "output_type": "stream",
     "text": [
      "Alpha, Copper = 1.7916504770539222e-05\n",
      "Error in Alpha, Copper = 4.366654827593163e-07\n"
     ]
    }
   ],
   "source": [
    "def rule4(errA,errB,errC,A,B,C,a,b,c,Q):\n",
    "    errQ= Q* np.sqrt(((a*errA)/A)**2 +((b*errB)/B)**2 +((c*errC)/C)**2)\n",
    "    return errQ\n",
    "\n",
    "D_L = 8.3e-4 #m\n",
    "errD_L = 1e-5 #m\n",
    "L = 0.7 #m\n",
    "errL = 0.005 #m\n",
    "D_T = 87.84-21.66 #C\n",
    "errD_T = 1.32 #C\n",
    "\n",
    "def alpha(A,B,C):\n",
    "    a = A*B**(-1)*C**(-1)\n",
    "    return a\n",
    "alpha = alpha(D_L,L,D_T)\n",
    "print(\"Alpha, Copper =\", alpha)\n",
    "\n",
    "err_alpha= rule4(errD_L,errL,errD_T,D_L,L,D_T,1,-1,-1,alpha)\n",
    "print (\"Error in Alpha, Copper =\", err_alpha)"
   ]
  },
  {
   "cell_type": "code",
   "execution_count": null,
   "metadata": {},
   "outputs": [],
   "source": []
  }
 ],
 "metadata": {
  "kernelspec": {
   "display_name": "Python 3",
   "language": "python",
   "name": "python3"
  },
  "language_info": {
   "codemirror_mode": {
    "name": "ipython",
    "version": 3
   },
   "file_extension": ".py",
   "mimetype": "text/x-python",
   "name": "python",
   "nbconvert_exporter": "python",
   "pygments_lexer": "ipython3",
   "version": "3.6.5"
  }
 },
 "nbformat": 4,
 "nbformat_minor": 2
}
