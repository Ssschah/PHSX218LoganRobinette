{
 "cells": [
  {
   "cell_type": "code",
   "execution_count": 33,
   "metadata": {},
   "outputs": [
    {
     "name": "stdout",
     "output_type": "stream",
     "text": [
      "alpha 1.722830955826614e-05\n",
      "err_Alpha 1.4748512344948642e-07\n"
     ]
    }
   ],
   "source": [
    "import numpy as np\n",
    "def rule3(errA,errB):\n",
    "    errQ = np.sqrt(errA**2 + errB**2)\n",
    "    return errQ\n",
    "errT_i = 0.3 #C\n",
    "errT_f = 0.1 #C\n",
    "\n",
    "err_Delta_T = rule3(errT_i, errT_f)\n",
    "#print (err_Delta_T)\n",
    "def rule4(Q,m,errA,A,n,errB,B,p,errC,C):\n",
    "    errQ = Q*np.sqrt((m*(errA/A))**2 +(n*(errB/B))**2 +(p*(errC/C))**2)\n",
    "    return errQ\n",
    "alpha = 0.00125*(1.05**(-1))*((92.5-23.4)**(-1))\n",
    "print (\"alpha\",alpha)\n",
    "L=1.05 #m\n",
    "delta_L=0.001 #m\n",
    "err_Delta_L=0.00001 #m\n",
    "Delta_L=0.00125 #m\n",
    "T_i=23.4 #C\n",
    "T_f=92.5 #C\n",
    "delta_T=0.2 #C\n",
    "T=69.1 #C\n",
    "m=1\n",
    "n=-1\n",
    "p=-1\n",
    "\n",
    "\n",
    "err_alpha = rule4(alpha,m,err_Delta_L,Delta_L,n,delta_L,L,p,delta_T,T)\n",
    "print (\"err_Alpha\",err_alpha)"
   ]
  },
  {
   "cell_type": "markdown",
   "metadata": {},
   "source": [
    "Logan Robinette, Jan 17, 2019, Synthetic Data Thermal Expansion: Week 1 Lab"
   ]
  },
  {
   "cell_type": "code",
   "execution_count": null,
   "metadata": {},
   "outputs": [],
   "source": []
  },
  {
   "cell_type": "markdown",
   "metadata": {},
   "source": [
    "$ \\alpha = \\Delta L  L^{-1}  \\Delta T^{-1} $"
   ]
  },
  {
   "cell_type": "markdown",
   "metadata": {},
   "source": [
    "$ \\delta \\alpha = \\alpha \\sqrt{\\frac{err\\Delta L}{\\Delta L}^{2} + \\frac{-errL}{L}^{2} + \\frac{-err \\Delta T}{T}^{2}}$"
   ]
  },
  {
   "cell_type": "code",
   "execution_count": null,
   "metadata": {},
   "outputs": [],
   "source": []
  }
 ],
 "metadata": {
  "kernelspec": {
   "display_name": "Python 3",
   "language": "python",
   "name": "python3"
  },
  "language_info": {
   "codemirror_mode": {
    "name": "ipython",
    "version": 3
   },
   "file_extension": ".py",
   "mimetype": "text/x-python",
   "name": "python",
   "nbconvert_exporter": "python",
   "pygments_lexer": "ipython3",
   "version": "3.6.5"
  }
 },
 "nbformat": 4,
 "nbformat_minor": 2
}
